{
  "nbformat": 4,
  "nbformat_minor": 0,
  "metadata": {
    "colab": {
      "provenance": [],
      "toc_visible": true,
      "include_colab_link": true
    },
    "kernelspec": {
      "name": "python3",
      "display_name": "Python 3"
    },
    "language_info": {
      "name": "python"
    }
  },
  "cells": [
    {
      "cell_type": "markdown",
      "metadata": {
        "id": "view-in-github",
        "colab_type": "text"
      },
      "source": [
        "<a href=\"https://colab.research.google.com/github/CrisVolcano/Introducci-n-GEE-con-Python/blob/main/Talle_gee_geemap.ipynb\" target=\"_parent\"><img src=\"https://colab.research.google.com/assets/colab-badge.svg\" alt=\"Open In Colab\"/></a>"
      ]
    },
    {
      "cell_type": "markdown",
      "source": [
        "![RAC.PNG](data:image/png;base64,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)\n",
        "\n",
        "> Pre-entrenamiento al curso de Radar de Apertura Sintética \n",
        "\n"
      ],
      "metadata": {
        "id": "2dBJC118h4Ri"
      }
    },
    {
      "cell_type": "markdown",
      "source": [
        "# Manual introductorio a Google Earth Engine con Geemap\n",
        "\n",
        "#### Compilado por el equipo RAC en noviembre de 2022\n",
        "\n",
        "* Cristian Aguilar-Barboza andresaguilarba20@gmail.com\n",
        "* María José Molina Montero\n",
        "* Jesús Cespedes Rivera\n"
      ],
      "metadata": {
        "id": "gKI08XegRYxv"
      }
    },
    {
      "cell_type": "markdown",
      "source": [
        "# Primeros pasos en python"
      ],
      "metadata": {
        "id": "aNE6kjYlnT1L"
      }
    },
    {
      "cell_type": "code",
      "source": [
        "#  Iniciemos por el popular Hola mundo utilizando la función print()\n",
        "\n",
        "#print('hola mundo')\n",
        "\n",
        "#También podemos definir una variable\n",
        "#las variables se usan para almacenar objetos\n",
        "#msg = 'Hola mundo!'\n",
        "#print(msg)\n",
        "\n",
        "#Listas\n",
        "#mi_lista = ['hola', 'RAC', 'Centroamérica']\n",
        "#print(mi_lista[2])\n",
        "\n",
        "\n",
        "#diccionarios \n",
        "#el_numero= 23\n",
        "# Las llaves (o corchetes) pueden usarse para definir diccionarios (pares clave:valor)\n",
        "#mi_dic = {'comida': 'pan', 'color': 'rojo', 'número': el_numero}\n",
        "#print(mi_dic['número']);\n",
        "\n",
        "#Las funciones pueden definirse como una forma de reutilizar el código y facilitar su lectura\n",
        "#def mi_funcion_hola(string):\n",
        "#  return '¡Hola ' + string + '!' \n",
        "#print(mi_funcion_hola('RAC'))"
      ],
      "metadata": {
        "id": "O6R2kR-nnSOn"
      },
      "execution_count": null,
      "outputs": []
    },
    {
      "cell_type": "markdown",
      "source": [
        "# Instalar y cargar librerías\n",
        "\n",
        "\n",
        "\n",
        "\n",
        "\n",
        "1.   Instale librería geemap  https://geemap.org/\n",
        "2.   Carge librerías de interés\n",
        "3. Inicie sesión en GEE.\n",
        "\n",
        "\n",
        "\n",
        "\n",
        "\n"
      ],
      "metadata": {
        "id": "3lzllRJOTlmC"
      }
    },
    {
      "cell_type": "code",
      "execution_count": 1,
      "metadata": {
        "id": "m6d6H2BWOGnc"
      },
      "outputs": [],
      "source": [
        " #!pip install geemap"
      ]
    },
    {
      "cell_type": "code",
      "source": [
        "# Importar librerias\n",
        "import geemap\n",
        "import ee\n"
      ],
      "metadata": {
        "id": "OU8cMXjAOJbi"
      },
      "execution_count": null,
      "outputs": []
    },
    {
      "cell_type": "code",
      "source": [
        "# Iniciar Sesión en GEE\n",
        "ee.Authenticate()\n",
        "ee.Initialize()"
      ],
      "metadata": {
        "id": "WXB9xhxSPie2"
      },
      "execution_count": null,
      "outputs": []
    },
    {
      "cell_type": "code",
      "source": [
        "#Map = geemap.Map(center=(10, -80), zoom=6)\n",
        "#Map"
      ],
      "metadata": {
        "id": "yx9JL3L70WPv"
      },
      "execution_count": null,
      "outputs": []
    },
    {
      "cell_type": "markdown",
      "source": [
        "# Visor de capas y geometrias\n",
        "\n",
        "\n",
        "\n",
        "1.   Explore la caja de herramientas\n",
        "2.   Dibuje una geometría \n",
        "3. Adquiera información de la geometría\n",
        "\n"
      ],
      "metadata": {
        "id": "u-Ul2B-2UjYX"
      }
    },
    {
      "cell_type": "code",
      "source": [
        "\n",
        "Map = geemap.Map(center=(10, -80), zoom=6)\n",
        "#Map"
      ],
      "metadata": {
        "id": "X3BKI_QjOftb"
      },
      "execution_count": null,
      "outputs": []
    },
    {
      "cell_type": "code",
      "source": [
        "Map.user_roi.getInfo()"
      ],
      "metadata": {
        "id": "JN2DUTpqRJTP"
      },
      "execution_count": null,
      "outputs": []
    },
    {
      "cell_type": "code",
      "source": [
        "# Defina la geometria \n",
        "roi = Map.user_roi\n",
        "\n",
        "if roi is None:\n",
        "    roi = ee.Geometry.Polygon([[[-87.600139, 12.923629],\n",
        "   [-87.600139, 13.027713],\n",
        "   [-87.5208, 13.027713],\n",
        "   [-87.5208, 12.923629],\n",
        "   [-87.600139, 12.923629]]])\n",
        "    \n",
        "print(roi.getInfo())"
      ],
      "metadata": {
        "id": "7keo9x-dPo4u"
      },
      "execution_count": null,
      "outputs": []
    },
    {
      "cell_type": "markdown",
      "source": [
        "# Cargar colecciones de GEE\n",
        "\n",
        "\n",
        "\n",
        "*   Explore el catalogo de GEE https://developers.google.com/earth-engine/datasets/catalog\n",
        "*   Elija alguna colección\n",
        "* Convierta en lenguaje Python\n",
        "\n"
      ],
      "metadata": {
        "id": "hsykklC1ZaPi"
      }
    },
    {
      "cell_type": "code",
      "source": [
        "#Abrir coleccion desde el catalogo\n",
        "#Map"
      ],
      "metadata": {
        "id": "rID8zYNUdch_"
      },
      "execution_count": null,
      "outputs": []
    },
    {
      "cell_type": "code",
      "source": [
        "# Copie y pegue el codigo de la coleccion en .py\n",
        "\n"
      ],
      "metadata": {
        "id": "xpPBvBokdxTS"
      },
      "execution_count": null,
      "outputs": []
    },
    {
      "cell_type": "code",
      "source": [
        "# Copie y pegue el codigo de la coleccion en .py desde las herramientas del visualizador\n",
        "\n"
      ],
      "metadata": {
        "id": "-W0G0BiseNjc"
      },
      "execution_count": 2,
      "outputs": []
    },
    {
      "cell_type": "markdown",
      "source": [
        "# Ejercicio con colección de Landsat 9\n",
        "\n",
        "\n",
        "\n",
        "*   En este ejercicio se importará una colección de imágenes del sensor Landsat 9, filtrada por fecha y por un área de interés. \n",
        "\n",
        "\n",
        "\n",
        "*   Se exploran diversas combinaciones de bandas y formas de visualización interactivas.\n",
        "\n",
        "* Catalogo de GEE: https://developers.google.com/earth-engine/datasets/catalog/LANDSAT_LC09_C02_T1_L2\n",
        "\n",
        "\n"
      ],
      "metadata": {
        "id": "GHZInlvngFZ2"
      }
    },
    {
      "cell_type": "code",
      "source": [
        "# Cargue la colección Landsat 9\n",
        "\n",
        "collection = ee.ImageCollection('LANDSAT/LC09/C02/T1_L2')\\\n",
        "            .filterDate('2022-01-01', '2022-11-01')\\\n",
        "            .filterBounds(roi)             \n",
        "\n",
        "#ajuste a su criterio las fechas y el área de interés\n",
        "\n",
        "#Observe la cantidad de imágenes de su colección\n",
        "print('Imagenes disponibles',collection.size().getInfo())"
      ],
      "metadata": {
        "id": "R0eoFT8yOjRx"
      },
      "execution_count": null,
      "outputs": []
    },
    {
      "cell_type": "code",
      "source": [
        "# Genere una compuesta con las imágenes de la colección \n",
        "# Con .clip() puede cortar la coleccion al area de interes\n",
        "\n",
        "median = collection.median().clip(roi)  #puede explorar con .mean()\n"
      ],
      "metadata": {
        "id": "P_ynhz2ZP16G"
      },
      "execution_count": null,
      "outputs": []
    },
    {
      "cell_type": "code",
      "source": [
        "#Aplique factores de escala \n",
        "\n",
        "def apply_scale_factors(image):\n",
        "    opticalBands = image.select('SR_B.').multiply(0.0000275).add(-0.2)\n",
        "    thermalBands = image.select('ST_B.*').multiply(0.00341802).add(149.0)\n",
        "    return image.addBands(opticalBands, None, True).addBands(thermalBands, None, True)\n",
        "\n",
        "#Aplicar los factotres de escala a la imágen compuesta\n",
        "dataset = apply_scale_factors(median)    \n",
        "\n",
        "#Información del dataset\n",
        "print(dataset.getInfo())"
      ],
      "metadata": {
        "id": "5oJJytXASqEb"
      },
      "execution_count": null,
      "outputs": []
    },
    {
      "cell_type": "code",
      "source": [
        "#Parámetros de visualización\n",
        "\n",
        "vis_natural = {\n",
        "    'bands': ['SR_B4', 'SR_B3', 'SR_B2'],  # R-G'B\n",
        "    'min': 0.0,\n",
        "    'max': 0.3,\n",
        "}\n",
        "\n",
        "vis_nir = {\n",
        "    'bands': ['SR_B5', 'SR_B4', 'SR_B3'],  #R-G-B  Puede editar esto a su conveniencia acorde a otras combinaciones de bandas. \n",
        "    'min': 0.0,\n",
        "    'max': 0.3,\n",
        "}\n",
        "\n",
        "\n",
        "Map.addLayer(dataset, vis_natural, 'Color natural')\n",
        "Map.addLayer(dataset, vis_nir, 'Infrarrojo')\n",
        "Map.setCenter(-87.565, 12.983, 12)\n",
        "Map"
      ],
      "metadata": {
        "id": "VWST1BHiSv9c"
      },
      "execution_count": null,
      "outputs": []
    },
    {
      "cell_type": "code",
      "source": [
        "#Supongamos que queremos observar diversas combinaciones de bandas al mismo tiempo\n",
        "# Las caracteristicas espectrales de las bandas las puede observar en: https://developers.google.com/earth-engine/datasets/catalog/LANDSAT_LC09_C02_T1_L2#bands\n",
        "\n",
        "vis_params = [\n",
        "    {'bands': ['SR_B4', 'SR_B3', 'SR_B2'], 'min': 0, 'max': 0.3},  # Color natural\n",
        "    {'bands': ['SR_B5', 'SR_B4', 'SR_B3'], 'min': 0, 'max': 0.3},  # Infrarojo\n",
        "    {'bands': ['SR_B7', 'SR_B6', 'SR_B4'], 'min': 0, 'max': 0.3},  #Infrarrojo de onda corta\n",
        "    {'bands': ['SR_B6', 'SR_B5', 'SR_B2'], 'min': 0, 'max': 0.3},  # Agricultura \n",
        "]\n",
        "\n",
        "labels = [\n",
        "    'Color natural (4, 3, 2)',\n",
        "    'Infrarrojo (5, 4, 3)',\n",
        "   'Infrarrojo de onda corta (7, 6 4)',\n",
        "    'Agricultura (6, 5, 2)',\n",
        "]\n"
      ],
      "metadata": {
        "id": "zB8k4X5IVt0A"
      },
      "execution_count": null,
      "outputs": []
    },
    {
      "cell_type": "code",
      "source": [
        "#Parámetros del visor\n",
        "\n",
        "geemap.linked_maps(\n",
        "    rows=2,\n",
        "    cols=2,\n",
        "    height=\"400px\",\n",
        "    center=[12.97628, -87.560937],\n",
        "    zoom=13,\n",
        "    ee_objects=[dataset],  #compuesta\n",
        "    vis_params=vis_params, #parámetros de observación\n",
        "    labels=labels,         # etiquetas \n",
        "    label_position=\"topright\", #puede ajustar esto \n",
        ")"
      ],
      "metadata": {
        "id": "FoiguPoDTNdK"
      },
      "execution_count": null,
      "outputs": []
    },
    {
      "cell_type": "markdown",
      "source": [
        "# Índices de vegetación\n"
      ],
      "metadata": {
        "id": "2ddRF6bdqm_k"
      }
    },
    {
      "cell_type": "code",
      "source": [
        "#GEE tiene incorporado una serie de indices de vegetacion con la funcion normalizedDifference\n",
        "ndvi = dataset.normalizedDifference(['SR_B5','SR_B4'])\n",
        "\n",
        "#Explore otros índices\n",
        "\n",
        "#gcvi = dataset.expression('(NIR/GREEN)-1',{\n",
        "#    'NIR':dataset.select('SR_B4'),\n",
        "#    'GREEN':dataset.select('SR_B3')\n",
        "#  })\n",
        "\n",
        "vis = {'max': 1, 'min': 0, \n",
        "    'palette': ['#0000ff', 'DF923D', 'F1B555',\n",
        "    'FCD163', '99B718', '74A901', '66A000', '529400', '3E8601', '207401',  #codigos hexadecimales https://htmlcolorcodes.com/es/\n",
        "    '056201', '004C00', '023B01', '012E01', '011D01', '011301']}\n",
        "\n",
        "Map.addLayer(ndvi, vis, 'NDVI')  #estructura (dataset, parametros_visualizacion, etiqueta)\n",
        "#Map.addLayer(gcvi, vis, 'GCVI')  #estructura (dataset, parametros_visualizacion, etiqueta)\n",
        "Map"
      ],
      "metadata": {
        "id": "AQ6CtS1FZD1z"
      },
      "execution_count": null,
      "outputs": []
    },
    {
      "cell_type": "markdown",
      "source": [
        "# Serie temporal con Landsat\n",
        "\n",
        "\n",
        "\n",
        "*   En este ejercicio se combina el uso de GEE con otras librerías comunes al utilizar python, por ejemplo: matplotlib, GDAL, entre otras. \n",
        "* Utilizaremos la serie de Landsat 5. \n",
        "* Puede utilizar otra coleccion siguiendo los mismos pasos.\n",
        "\n"
      ],
      "metadata": {
        "id": "Ru9Vcitd-D26"
      }
    },
    {
      "cell_type": "code",
      "source": [
        "# Instalamos una serie de librerias\n",
        "\n",
        "!apt-get install libproj-dev proj-data proj-bin\n",
        "!apt-get install libgeos-dev\n",
        "!pip install cython\n",
        "!pip install cartopy"
      ],
      "metadata": {
        "id": "b7lTRhg1F2Mz"
      },
      "execution_count": null,
      "outputs": []
    },
    {
      "cell_type": "code",
      "source": [
        "# Más librerias\n",
        "!apt-get -qq install python-cartopy python3-cartopy\n",
        "!pip uninstall -y shapely    # cartopy and shapely aren't friends (early 2020)\n",
        "!pip install shapely --no-binary shapely"
      ],
      "metadata": {
        "id": "j2pnn6waFRnd"
      },
      "execution_count": null,
      "outputs": []
    },
    {
      "cell_type": "code",
      "source": [
        "# Importar librerias\n",
        "import warnings\n",
        "warnings.filterwarnings('ignore')\n",
        "%matplotlib inline\n",
        "import matplotlib.pyplot as plt\n",
        "from matplotlib import cm\n",
        "import numpy as np\n",
        "import cartopy\n",
        "import cartopy.crs as ccrs                   \n",
        "import cartopy.feature as cfeature          \n",
        "import cartopy.io.shapereader as shapereader\n",
        "from cartopy.mpl.ticker import LongitudeFormatter, LatitudeFormatter\n",
        "from cartopy.feature.nightshade import Nightshade"
      ],
      "metadata": {
        "id": "9JmZI_NyTRwN"
      },
      "execution_count": null,
      "outputs": []
    },
    {
      "cell_type": "code",
      "source": [
        "print(cartopy.__version__)"
      ],
      "metadata": {
        "id": "AvWFf1CIkQha"
      },
      "execution_count": null,
      "outputs": []
    },
    {
      "cell_type": "code",
      "source": [
        "start_year = 1984\n",
        "end_year = 2000\n",
        "years = ee.List.sequence(start_year, end_year)\n",
        "\n",
        "point = ee.Geometry.Point(-87.565, 12.983)\n",
        "\n",
        "def get_best_image(year):\n",
        "\n",
        "    start_date = ee.Date.fromYMD(year, 1, 1)\n",
        "    end_date = ee.Date.fromYMD(year, 12, 31)\n",
        "    image = (\n",
        "        ee.ImageCollection(\"LANDSAT/LT05/C01/T1_SR\")\n",
        "        .filterBounds(point)\n",
        "        .filterDate(start_date, end_date)\n",
        "        .sort(\"CLOUD_COVER\")\n",
        "        .first()\n",
        "    )\n",
        "    return ee.Image(image)\n",
        "\n",
        "\n",
        "collection = ee.ImageCollection(years.map(get_best_image))\n",
        "\n",
        "vis_params = {\"bands\": ['B4', 'B3', 'B2'], \"min\": 0, \"max\": 5000}\n",
        "\n",
        "image = ee.Image(collection.first())\n",
        "Map.addLayer(image, vis_params, 'First image')\n",
        "Map.setCenter(-87.565, 12.983, 12)\n",
        "Map"
      ],
      "metadata": {
        "id": "StLw0WkiNHmU"
      },
      "execution_count": null,
      "outputs": []
    },
    {
      "cell_type": "code",
      "source": [
        "# Ploteo cartográfico\n",
        "\n",
        "from geemap import cartoee\n",
        "lat= 12.983\n",
        "lon= -87.565\n",
        "w = 0.4\n",
        "h = 0.3\n",
        "\n",
        "region = [lon - w, lat - h, lon + w, lat + h]\n",
        "\n",
        "fig = plt.figure(figsize=(10, 8))\n",
        "\n",
        "# use cartoee to get a map\n",
        "ax = cartoee.get_map(image, region=region, vis_params=vis_params)\n",
        "\n",
        "# add gridlines to the map at a specified interval\n",
        "cartoee.add_gridlines(ax, interval=[0.2, 0.2], linestyle=\":\")\n",
        "\n",
        "# add north arrow\n",
        "north_arrow_dict = {\n",
        "    \"text\": \"N\",\n",
        "    \"xy\": (0.9, 0.95),\n",
        "    \"arrow_length\": 0.10,\n",
        "    \"text_color\": \"black\",\n",
        "    \"arrow_color\": \"black\",\n",
        "    \"fontsize\": 12,\n",
        "    \"width\": 5,\n",
        "    \"headwidth\": 12,\n",
        "    \"ha\": \"center\",\n",
        "    \"va\": \"center\",\n",
        "}\n",
        "cartoee.add_north_arrow(ax, **north_arrow_dict)\n",
        "\n",
        "# add scale bar\n",
        "scale_bar_dict = {\n",
        "    \"length\": 10,\n",
        "    \"xy\": (0.1, 0.05),\n",
        "    \"linewidth\": 3,\n",
        "    \"fontsize\": 14,\n",
        "    \"color\": \"black\",\n",
        "    \"unit\": \"km\",\n",
        "    \"ha\": \"center\",\n",
        "    \"va\": \"bottom\",\n",
        "}\n",
        "cartoee.add_scale_bar_lite(ax, **scale_bar_dict)\n",
        "\n",
        "ax.set_title(label='Cosiguina, Nicaragua', fontsize=15)\n",
        "\n",
        "plt.show()"
      ],
      "metadata": {
        "id": "C5t4PJf_fWMq"
      },
      "execution_count": null,
      "outputs": []
    },
    {
      "cell_type": "code",
      "source": [
        "import os\n",
        "cartoee.get_image_collection_gif(\n",
        "    ee_ic=collection,\n",
        "    out_dir=os.path.expanduser(\"~/Downloads/timelapse\"),\n",
        "    out_gif=\"animation.gif\",\n",
        "    vis_params=vis_params,\n",
        "    region=region,\n",
        "    fps=1,\n",
        "    mp4=True,\n",
        "    grid_interval=(0.2, 0.2),\n",
        "    plot_title=\"Consiguina, Nicaragua\",\n",
        "    date_format='YYYY-MM-dd',\n",
        "    fig_size=(10, 8),\n",
        "    dpi_plot=200,\n",
        "    file_format=\"png\",\n",
        "    #north_arrow_dict=north_arrow_dict,\n",
        "    scale_bar_dict=scale_bar_dict,\n",
        "    verbose=True,\n",
        ")"
      ],
      "metadata": {
        "id": "1Jkli_KPiyst"
      },
      "execution_count": null,
      "outputs": []
    },
    {
      "cell_type": "markdown",
      "source": [
        "# Final"
      ],
      "metadata": {
        "id": "JxRs5uFhDise"
      }
    },
    {
      "cell_type": "markdown",
      "source": [
        "Acá finaliza el manual introductorio a GEE con Geemap\n",
        "\n",
        "Para dudas o consultas comunicarse con el equipo RAC. \n",
        "\n",
        "Para más tutoriales puede visitar el canal de Youtube del creador de geemap Qiusheng Wu  https://www.youtube.com/@giswqs"
      ],
      "metadata": {
        "id": "Vez2J3SRCSfu"
      }
    },
    {
      "cell_type": "markdown",
      "source": [
        "![by.png](data:image/png;base64,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)"
      ],
      "metadata": {
        "id": "uCxTRQbvTQTh"
      }
    }
  ]
}